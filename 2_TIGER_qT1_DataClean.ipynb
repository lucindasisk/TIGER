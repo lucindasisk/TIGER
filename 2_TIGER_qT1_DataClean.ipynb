{
 "cells": [
  {
   "cell_type": "code",
   "execution_count": 1,
   "metadata": {},
   "outputs": [],
   "source": [
    "import pandas as pd\n",
    "from os.path import expanduser, join\n",
    "from glob import glob\n",
    "import pandas as pd\n",
    "from datetime import date\n",
    "from numpy import where\n",
    "today = str(date.today())\n",
    "pd.set_option('display.max_rows', 500)\n",
    "pd.set_option('display.max_columns', 500)\n",
    "pd.set_option('display.width', 1000)"
   ]
  },
  {
   "cell_type": "code",
   "execution_count": 2,
   "metadata": {},
   "outputs": [],
   "source": [
    "home='/Volumes/group/proc/TIGERanalysis/qT1'\n",
    "dest = join(home,'Results/Raw_VoxelData')\n",
    "datadir = join(home,'data/2_Extracted_Stats')\n",
    "flist = glob(datadir + '/*/ROI_voxel*')"
   ]
  },
  {
   "cell_type": "code",
   "execution_count": null,
   "metadata": {},
   "outputs": [
    {
     "name": "stderr",
     "output_type": "stream",
     "text": [
      "/usr/local/anaconda3/lib/python3.6/site-packages/ipykernel_launcher.py:3: ParserWarning: Falling back to the 'python' engine because the 'c' engine does not support regex separators (separators > 1 char and different from '\\s+' are interpreted as regex); you can avoid this warning by specifying engine='python'.\n",
      "  This is separate from the ipykernel package so we can avoid doing imports until\n",
      "/usr/local/anaconda3/lib/python3.6/site-packages/ipykernel_launcher.py:3: ParserWarning: Falling back to the 'python' engine because the 'c' engine does not support regex separators (separators > 1 char and different from '\\s+' are interpreted as regex); you can avoid this warning by specifying engine='python'.\n",
      "  This is separate from the ipykernel package so we can avoid doing imports until\n"
     ]
    }
   ],
   "source": [
    "def fix_files(file1):\n",
    "    inf = file1.replace(datadir+'/_subject_id_', '').replace('/ROI_voxel-contrasts', '').replace('.txt', '')\n",
    "    file1 = pd.read_csv(file1, header=None, sep = '  ')\n",
    "    file = file1.transpose().rename(columns = {0:'L/R', 1:'A/P', 2:'S/I', 3:'Voxel Contrast'})\n",
    "    file['R1'] = 1/file['Voxel Contrast']\n",
    "    outfile = file.to_csv(dest + '/{}.csv'.format(inf), index = False)\n",
    "    return outfile\n",
    "\n",
    "for file1 in flist:\n",
    "    fix_files(file1)\n"
   ]
  },
  {
   "cell_type": "code",
   "execution_count": null,
   "metadata": {},
   "outputs": [],
   "source": [
    "lamyglist = glob(dest + '/*_LeftAmygdala.csv')\n",
    "lcaudlist = glob(dest + '/*_LeftCaudate.csv')\n",
    "lhipplist = glob(dest + '/*_LeftHippocampus.csv')\n",
    "lNAcclist = glob(dest + '/*_LeftNAcc.csv')\n",
    "lputlist = glob(dest + '/*_LeftPutamen.csv')\n",
    "ramyglist = glob(dest + '/*_RightAmygdala.csv')\n",
    "rcaudlist = glob(dest + '/*_RightCaudate.csv')\n",
    "rhipplist = glob(dest + '/*_RightHippocampus.csv')\n",
    "rNAcclist = glob(dest + '/*_RightNAcc.csv')\n",
    "rputlist = glob(dest + '/*_RightPutamen.csv')\n",
    "\n",
    "# lcclist = glob(dest + '/*_LeftCC.csv')\n",
    "# rcclist = glob(dest + '/*_RightCC.csv')\n",
    "# lunclist = glob(dest + '/*_LeftUncinate.csv')\n",
    "# runclist = glob(dest + '/*_RightUncinate.csv')\n",
    "#llist= [lcclist, rcclist, lunclist, runclist]\n",
    "llist = [lamyglist, lcaudlist, lhipplist, lNAcclist, lputlist,\n",
    "        ramyglist, rcaudlist, rhipplist, rNAcclist, rputlist]"
   ]
  },
  {
   "cell_type": "code",
   "execution_count": 14,
   "metadata": {},
   "outputs": [],
   "source": [
    "def compute_mean(file):\n",
    "    v1 = pd.read_csv(file, header=0)\n",
    "    sub = file.replace(dest+'/','').replace('.csv', '')      \n",
    "    mean = v1['Voxel Contrast'].mean()\n",
    "    v2 = [sub, mean]\n",
    "    means.append(v2)\n",
    "\n",
    "means = []\n",
    "for file in lcclist:\n",
    "    compute_mean(file)\n",
    "\n",
    "    \n",
    "lccfile = pd.DataFrame(means, columns = ['Left_CC', 'LCC_VoxelConMean'])\n",
    "lccid = []\n",
    "for x in lccfile['Left_CC']:\n",
    "    y = str(x).replace('_LeftCC','')\n",
    "    lccid.append(y)\n",
    "lccfile['ID'] = lccid\n",
    "lccfile['LCC_R1'] = 1/lccfile['LCC_VoxelConMean']\n",
    "\n",
    "means = []    \n",
    "for file in rcclist:\n",
    "    compute_mean(file)\n",
    "\n",
    "    \n",
    "rccfile = pd.DataFrame(means, columns = ['Right_CC', 'RCC_VoxelConMean'])\n",
    "rccid = []\n",
    "for x in rccfile['Right_CC']:\n",
    "    y = str(x).replace('_RightCC','')\n",
    "    rccid.append(y)\n",
    "rccfile['ID'] = rccid\n",
    "rccfile['RCC_R1'] = 1/rccfile['RCC_VoxelConMean']\n",
    "\n",
    "means = []\n",
    "for file in lunclist:\n",
    "    compute_mean(file)\n",
    "\n",
    "    \n",
    "luncfile = pd.DataFrame(means, columns = ['Left_Unc', 'LUF_VoxelConMean'])\n",
    "luncid = []\n",
    "for x in luncfile['Left_Unc']:\n",
    "    y = str(x).replace('_LeftUncinate','')\n",
    "    luncid.append(y)\n",
    "luncfile['ID'] = luncid\n",
    "luncfile['LUF_R1'] = 1/luncfile['LUF_VoxelConMean']\n",
    "\n",
    "means = []\n",
    "r1 = []\n",
    "for file in runclist:\n",
    "    compute_mean(file)\n",
    "\n",
    "    \n",
    "runcfile = pd.DataFrame(means, columns = ['Right_Unc', 'RUF_VoxelConMean'])\n",
    "runcid = []\n",
    "for x in runcfile['Right_Unc']:\n",
    "    y = str(x).replace('_RightUncinate','')\n",
    "    runcid.append(y)\n",
    "runcfile['ID'] = runcid\n",
    "runcfile['RUF_R1'] = 1/runcfile['RUF_VoxelConMean']"
   ]
  },
  {
   "cell_type": "code",
   "execution_count": 15,
   "metadata": {},
   "outputs": [],
   "source": [
    "m1 = pd.merge(lccfile, rccfile, how='outer', on='ID')\n",
    "m2 = pd.merge(m1, luncfile, how='outer', on='ID')\n",
    "m3 = pd.merge(m2, runcfile, how='outer', on='ID')\n",
    "\n",
    "master1 = m3.drop(['Right_CC', 'Left_CC', 'Right_Unc', 'Left_Unc'], axis=1)\n",
    "cols = master1.columns.tolist()\n",
    "cols_fixed = ['ID', 'LCC_VoxelConMean', 'LCC_R1', 'RCC_VoxelConMean', 'RCC_R1', 'LUF_VoxelConMean', 'LUF_R1', 'RUF_VoxelConMean', 'RUF_R1']\n",
    "master = master1[cols_fixed].sort_values(by='ID')"
   ]
  },
  {
   "cell_type": "code",
   "execution_count": 16,
   "metadata": {},
   "outputs": [],
   "source": [
    "master.to_csv(home+'/Results/qT1_output_'+today+'.csv', index=False)"
   ]
  },
  {
   "cell_type": "code",
   "execution_count": null,
   "metadata": {},
   "outputs": [],
   "source": []
  }
 ],
 "metadata": {
  "kernelspec": {
   "display_name": "Python 3",
   "language": "python",
   "name": "python3"
  },
  "language_info": {
   "codemirror_mode": {
    "name": "ipython",
    "version": 3
   },
   "file_extension": ".py",
   "mimetype": "text/x-python",
   "name": "python",
   "nbconvert_exporter": "python",
   "pygments_lexer": "ipython3",
   "version": "3.6.3"
  },
  "toc": {
   "base_numbering": 1,
   "nav_menu": {},
   "number_sections": true,
   "sideBar": true,
   "skip_h1_title": false,
   "title_cell": "Table of Contents",
   "title_sidebar": "Contents",
   "toc_cell": false,
   "toc_position": {},
   "toc_section_display": true,
   "toc_window_display": false
  }
 },
 "nbformat": 4,
 "nbformat_minor": 2
}
