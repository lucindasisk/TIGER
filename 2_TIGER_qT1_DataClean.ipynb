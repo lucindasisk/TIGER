{
 "cells": [
  {
   "cell_type": "code",
   "execution_count": 1,
   "metadata": {
    "collapsed": true
   },
   "outputs": [],
   "source": [
    "import pandas as pd\n",
    "from os.path import expanduser, join\n",
    "from glob import glob"
   ]
  },
  {
   "cell_type": "code",
   "execution_count": 2,
   "metadata": {},
   "outputs": [],
   "source": [
    "user = expanduser('~')\n",
    "fpath = join(user, 'Dropbox/SNAPLab/Data/TIGER-T1/TIGER_qT1')\n",
    "dest = join(fpath, 'Analysis')\n",
    "datadir = join(fpath, 'DataDir_qT1/5_Extracted_Stats')\n",
    "flist = glob(datadir + '/*/ROI_voxel-*')"
   ]
  },
  {
   "cell_type": "code",
   "execution_count": 7,
   "metadata": {},
   "outputs": [
    {
     "name": "stderr",
     "output_type": "stream",
     "text": [
      "/usr/local/anaconda3/lib/python3.6/site-packages/ipykernel_launcher.py:3: ParserWarning: Falling back to the 'python' engine because the 'c' engine does not support regex separators (separators > 1 char and different from '\\s+' are interpreted as regex); you can avoid this warning by specifying engine='python'.\n",
      "  This is separate from the ipykernel package so we can avoid doing imports until\n"
     ]
    }
   ],
   "source": [
    "def fix_files(file1):\n",
    "    inf = file1.replace('/Users/lucindasisk/Dropbox/SNAPLab/Data/TIGER-T1/TIGER_qT1/DataDir_qT1/5_Extracted_Stats/_subject_id_', '').replace('/ROI_voxel-contrasts', '').replace('.txt', '')\n",
    "    file1 = pd.read_csv(file1, header=None, sep = '  ')\n",
    "    file = file1.transpose().rename(columns = {0:'L/R', 1:'A/P', 2:'S/I', 3:'Voxel Contrast'})\n",
    "    file['R1'] = 1/file['Voxel Contrast']\n",
    "    outfile = file.to_csv(dest + '/{}.csv'.format(inf), index = False)\n",
    "    return outfile\n",
    "\n",
    "for file1 in flist:\n",
    "    fix_files(file1)\n"
   ]
  },
  {
   "cell_type": "code",
   "execution_count": null,
   "metadata": {
    "collapsed": true
   },
   "outputs": [],
   "source": []
  },
  {
   "cell_type": "code",
   "execution_count": null,
   "metadata": {},
   "outputs": [],
   "source": []
  },
  {
   "cell_type": "code",
   "execution_count": null,
   "metadata": {
    "collapsed": true
   },
   "outputs": [],
   "source": []
  }
 ],
 "metadata": {
  "kernelspec": {
   "display_name": "Python 3",
   "language": "python",
   "name": "python3"
  },
  "language_info": {
   "codemirror_mode": {
    "name": "ipython",
    "version": 3
   },
   "file_extension": ".py",
   "mimetype": "text/x-python",
   "name": "python",
   "nbconvert_exporter": "python",
   "pygments_lexer": "ipython3",
   "version": "3.6.3"
  }
 },
 "nbformat": 4,
 "nbformat_minor": 2
}
