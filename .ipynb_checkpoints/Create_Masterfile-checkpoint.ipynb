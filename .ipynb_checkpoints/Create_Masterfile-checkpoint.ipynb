{
 "cells": [
  {
   "cell_type": "markdown",
   "metadata": {},
   "source": [
    "### Create Master Data File for Analysis"
   ]
  },
  {
   "cell_type": "code",
   "execution_count": 191,
   "metadata": {},
   "outputs": [],
   "source": [
    "import pandas as pd\n",
    "import numpy as np\n",
    "from datetime import date\n",
    "\n",
    "pd.options.display.max_rows = 999\n",
    "pd.options.display.max_columns = 999"
   ]
  },
  {
   "cell_type": "code",
   "execution_count": 4,
   "metadata": {},
   "outputs": [],
   "source": [
    "home = '/Users/lucindasisk/Box/LS_Folders/SNAPLab/Projects/TIGER_qT1'"
   ]
  },
  {
   "cell_type": "markdown",
   "metadata": {},
   "source": [
    "#### Organize demographic/clinical information"
   ]
  },
  {
   "cell_type": "code",
   "execution_count": 150,
   "metadata": {},
   "outputs": [],
   "source": [
    "d1 = pd.read_csv(home + '/Demographics/Raw/TIGER_T1-T2_forLucinda_Tanner.csv').rename(columns = {\"SubjID\":\"ID\"})\n",
    "d2 = pd.read_csv(home + '/Demographics/Raw/ELS_T3_forLucinda_Tanner.csv').rename(columns = {\"SubjID\":\"ID\"})\n",
    "d3 = pd.read_csv(home + '/Demographics/MASC_and_newIDS_T3Only.csv')\n",
    "d4 = pd.read_csv(home + '/Demographics/MASC_and_newIDS_T4Only.csv')\n",
    "new_data = pd.read_csv(home + '/Demographics/MASC_and_newIDS_T4Only.csv')"
   ]
  },
  {
   "cell_type": "code",
   "execution_count": 151,
   "metadata": {},
   "outputs": [],
   "source": [
    "c1 = pd.concat([d1, d2], axis=0, sort=False)\n",
    "c2 = pd.concat([d3, d4], axis=0, sort=False)"
   ]
  },
  {
   "cell_type": "code",
   "execution_count": 152,
   "metadata": {},
   "outputs": [
    {
     "name": "stderr",
     "output_type": "stream",
     "text": [
      "/usr/local/anaconda3/lib/python3.7/site-packages/ipykernel_launcher.py:4: SettingWithCopyWarning: \n",
      "A value is trying to be set on a copy of a slice from a DataFrame.\n",
      "Try using .loc[row_indexer,col_indexer] = value instead\n",
      "\n",
      "See the caveats in the documentation: http://pandas.pydata.org/pandas-docs/stable/user_guide/indexing.html#returning-a-view-versus-a-copy\n",
      "  after removing the cwd from sys.path.\n"
     ]
    }
   ],
   "source": [
    "c1_cols = ['ID', 'Group', 'Age.at.V2', 'Sex', 'Current_Med_Psych',\n",
    "           'Parent_Level_Education', 'RADS_total', 'Tanner_Score']\n",
    "c1_df = c1[c1_cols]\n",
    "c1_df['Group'] = c1_df['Group'].replace(np.nan, 'CTL')"
   ]
  },
  {
   "cell_type": "code",
   "execution_count": 153,
   "metadata": {},
   "outputs": [],
   "source": [
    "c2_cols = ['ID', 'Age.at.V2', 'Sex', 'Current_Med_Psych', #'Ethnicity', 'Race',\n",
    "           'Parent_Level_Education','RADS_total', 'Tanner_Score']\n",
    "c2_df = c2[c2_cols].set_index('ID').dropna(how = 'all', axis=0).reset_index()\n",
    "c2_df['Group'] = 'CTL'"
   ]
  },
  {
   "cell_type": "code",
   "execution_count": 154,
   "metadata": {},
   "outputs": [],
   "source": [
    "all_df = pd.concat([c1_df, c2_df], axis=0, sort=False)\n",
    "all_df['ID'] = all_df['ID'].str.lstrip('els').replace('159x-T3', '159-T3').replace('66-T3', '066-T3').replace('72-T4', '072-T4')"
   ]
  },
  {
   "cell_type": "markdown",
   "metadata": {},
   "source": [
    "#### Merge neuroimaging data"
   ]
  },
  {
   "cell_type": "code",
   "execution_count": 162,
   "metadata": {},
   "outputs": [
    {
     "name": "stderr",
     "output_type": "stream",
     "text": [
      "/usr/local/anaconda3/lib/python3.7/site-packages/ipykernel_launcher.py:9: SettingWithCopyWarning: \n",
      "A value is trying to be set on a copy of a slice from a DataFrame.\n",
      "Try using .loc[row_indexer,col_indexer] = value instead\n",
      "\n",
      "See the caveats in the documentation: http://pandas.pydata.org/pandas-docs/stable/user_guide/indexing.html#returning-a-view-versus-a-copy\n",
      "  if __name__ == '__main__':\n"
     ]
    }
   ],
   "source": [
    "qt1 = pd.read_csv(home + '/Data/qT1_output_2021-02-01.csv')\n",
    "dti_newsubs = pd.read_csv(home + '/Data/raw/Tiger_qT1_MasterFile_1.12.21_newsubs.csv')\n",
    "dti = dti_newsubs[['ID', 'numoutliers', 'CC.Major.FA.mean', 'CC.Minor.FA.mean',\n",
    "                   'Left.Cingulum.Cingulate.FA.mean', 'Right.Cingulum.Cingulate.FA.mean', \n",
    "                   'Left.UF.FA.mean', 'Right.UF.FA.mean', 'motion 1', 'motion 2',\n",
    "                   'motion 3', 'motion 4', 'motion 5', 'motion 6', 'average.motion',\n",
    "                   'Left.UF.Tractlength', 'Right.UF.Tractlength', 'Left.Cingulate.Tractlength', \n",
    "                   'Right.Cingulate.Tractlength', 'CC.major.Tractlength', 'CC.minor.Tractlength']]\n",
    "dti['ID'] = dti['ID'].replace('66-T3', '066-T3').replace('72-T4', '072-T4')"
   ]
  },
  {
   "cell_type": "code",
   "execution_count": 214,
   "metadata": {},
   "outputs": [
    {
     "name": "stdout",
     "output_type": "stream",
     "text": [
      "(88, 33)\n"
     ]
    }
   ],
   "source": [
    "neur = pd.merge(qt1, dti, on = 'ID', how = 'left')\n",
    "print(neur.shape)"
   ]
  },
  {
   "cell_type": "code",
   "execution_count": 215,
   "metadata": {},
   "outputs": [],
   "source": [
    "#Manually enter 072-T4 FA values\n",
    "left_fa_mean_72 = 0.4080336\n",
    "right_fa_mean_72 = 0.42035378\n",
    "left_fa_mean_112 =\n",
    "right_fa_mean_112 = 0.4065705\n",
    "\n",
    "new_df = pd.DataFrame({'Left.UF.FA.mean': [left_fa_mean], 'Right.UF.FA.mean': [right_fa_mean]}, \n",
    "                      index = ['072-T4'])\n",
    "\n",
    "#Add in new values to main df\n",
    "neur = neur.set_index('ID')\n",
    "neur.update(new_df)"
   ]
  },
  {
   "cell_type": "markdown",
   "metadata": {},
   "source": [
    "#### Merge behav and neural data"
   ]
  },
  {
   "cell_type": "code",
   "execution_count": 216,
   "metadata": {},
   "outputs": [],
   "source": [
    "today = str(date.today())\n",
    "final = pd.merge(all_df, neur, on = 'ID', how = 'right')"
   ]
  },
  {
   "cell_type": "code",
   "execution_count": 217,
   "metadata": {},
   "outputs": [],
   "source": [
    "final.to_csv(home + '/Data/Tiger_qT1_MasterFile_{}.csv'.format(today), index = False)"
   ]
  },
  {
   "cell_type": "code",
   "execution_count": null,
   "metadata": {},
   "outputs": [],
   "source": []
  }
 ],
 "metadata": {
  "kernelspec": {
   "display_name": "Python 3",
   "language": "python",
   "name": "python3"
  },
  "language_info": {
   "codemirror_mode": {
    "name": "ipython",
    "version": 3
   },
   "file_extension": ".py",
   "mimetype": "text/x-python",
   "name": "python",
   "nbconvert_exporter": "python",
   "pygments_lexer": "ipython3",
   "version": "3.7.6"
  }
 },
 "nbformat": 4,
 "nbformat_minor": 4
}
